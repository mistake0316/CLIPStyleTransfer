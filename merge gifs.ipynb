{
 "cells": [
  {
   "cell_type": "markdown",
   "id": "cb6bf00c",
   "metadata": {},
   "source": [
    "# Merge gifs"
   ]
  },
  {
   "cell_type": "code",
   "execution_count": 10,
   "id": "9f08df17",
   "metadata": {},
   "outputs": [],
   "source": [
    "names = \"\"\"\\\n",
    "clouds.gif\n",
    "golf ball.gif\n",
    "green jewels.gif\n",
    "hentai.gif\n",
    "swirls.gif\n",
    "honey.gif\n",
    "Metal.gif\n",
    "pudding.gif\n",
    "starry night.gif\n",
    "pumpkin.gif\"\"\""
   ]
  },
  {
   "cell_type": "code",
   "execution_count": 11,
   "id": "13bf6264",
   "metadata": {},
   "outputs": [],
   "source": [
    "import PIL.Image"
   ]
  },
  {
   "cell_type": "code",
   "execution_count": 12,
   "id": "ae6173b8",
   "metadata": {},
   "outputs": [],
   "source": [
    "size = 384,384"
   ]
  },
  {
   "cell_type": "code",
   "execution_count": 13,
   "id": "dc3b8ffe",
   "metadata": {},
   "outputs": [],
   "source": [
    "GIFs = [*map(lambda s:PIL.Image.open(f\"result/{s}\"), names.split(\"\\n\"))]"
   ]
  },
  {
   "cell_type": "code",
   "execution_count": 14,
   "id": "d59b4856",
   "metadata": {},
   "outputs": [
    {
     "data": {
      "text/plain": [
       "[<PIL.GifImagePlugin.GifImageFile image mode=P size=384x384 at 0x7F9BDBCCC8D0>,\n",
       " <PIL.GifImagePlugin.GifImageFile image mode=P size=384x384 at 0x7F9BDBCCCA90>,\n",
       " <PIL.GifImagePlugin.GifImageFile image mode=P size=384x384 at 0x7F9BDBCCC910>,\n",
       " <PIL.GifImagePlugin.GifImageFile image mode=P size=384x384 at 0x7F9BDBCCCB90>,\n",
       " <PIL.GifImagePlugin.GifImageFile image mode=P size=384x384 at 0x7F9BDBCCCC50>,\n",
       " <PIL.GifImagePlugin.GifImageFile image mode=P size=384x384 at 0x7F9BDBCCCD10>,\n",
       " <PIL.GifImagePlugin.GifImageFile image mode=P size=384x384 at 0x7F9BDBCCCDD0>,\n",
       " <PIL.GifImagePlugin.GifImageFile image mode=P size=384x384 at 0x7F9BDBCCCE90>,\n",
       " <PIL.GifImagePlugin.GifImageFile image mode=P size=384x384 at 0x7F9BDBCCCF50>,\n",
       " <PIL.GifImagePlugin.GifImageFile image mode=P size=384x384 at 0x7F9BDBCCCF90>]"
      ]
     },
     "execution_count": 14,
     "metadata": {},
     "output_type": "execute_result"
    }
   ],
   "source": [
    "GIFs"
   ]
  },
  {
   "cell_type": "code",
   "execution_count": null,
   "id": "e16b174d",
   "metadata": {},
   "outputs": [],
   "source": []
  }
 ],
 "metadata": {
  "kernelspec": {
   "display_name": "Python 3 (ipykernel)",
   "language": "python",
   "name": "python3"
  },
  "language_info": {
   "codemirror_mode": {
    "name": "ipython",
    "version": 3
   },
   "file_extension": ".py",
   "mimetype": "text/x-python",
   "name": "python",
   "nbconvert_exporter": "python",
   "pygments_lexer": "ipython3",
   "version": "3.7.10"
  }
 },
 "nbformat": 4,
 "nbformat_minor": 5
}
